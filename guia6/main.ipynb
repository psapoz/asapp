{
 "cells": [
  {
   "cell_type": "code",
   "execution_count": 2,
   "metadata": {},
   "outputs": [],
   "source": [
    "import numpy as np\n",
    "from scipy import stats"
   ]
  },
  {
   "cell_type": "markdown",
   "metadata": {},
   "source": [
    "### 1. Crear un vector con valores dentro del rango 10 a 49."
   ]
  },
  {
   "cell_type": "code",
   "execution_count": 3,
   "metadata": {
    "scrolled": true
   },
   "outputs": [
    {
     "data": {
      "text/plain": [
       "array([10, 11, 12, 13, 14, 15, 16, 17, 18, 19, 20, 21, 22, 23, 24, 25, 26,\n",
       "       27, 28, 29, 30, 31, 32, 33, 34, 35, 36, 37, 38, 39, 40, 41, 42, 43,\n",
       "       44, 45, 46, 47, 48, 49])"
      ]
     },
     "execution_count": 3,
     "metadata": {},
     "output_type": "execute_result"
    }
   ],
   "source": [
    "vector = np.arange(10, 50)\n",
    "vector"
   ]
  },
  {
   "cell_type": "markdown",
   "metadata": {},
   "source": [
    "### 2. Invertir el vector creado en el ejercicio 1."
   ]
  },
  {
   "cell_type": "code",
   "execution_count": 4,
   "metadata": {},
   "outputs": [
    {
     "data": {
      "text/plain": [
       "array([49, 48, 47, 46, 45, 44, 43, 42, 41, 40, 39, 38, 37, 36, 35, 34, 33,\n",
       "       32, 31, 30, 29, 28, 27, 26, 25, 24, 23, 22, 21, 20, 19, 18, 17, 16,\n",
       "       15, 14, 13, 12, 11, 10])"
      ]
     },
     "execution_count": 4,
     "metadata": {},
     "output_type": "execute_result"
    }
   ],
   "source": [
    "vector[::-1]"
   ]
  },
  {
   "cell_type": "markdown",
   "metadata": {},
   "source": [
    "### 3. Crear una matriz de 3x3 con los valores de 0 a 8."
   ]
  },
  {
   "cell_type": "code",
   "execution_count": 105,
   "metadata": {},
   "outputs": [
    {
     "data": {
      "text/plain": [
       "array([[0, 1, 2],\n",
       "       [3, 4, 5],\n",
       "       [6, 7, 8]])"
      ]
     },
     "execution_count": 105,
     "metadata": {},
     "output_type": "execute_result"
    }
   ],
   "source": [
    "matrix_3x3 = np.arange(0, 9).reshape(3, 3)\n",
    "matrix_3x3"
   ]
  },
  {
   "cell_type": "markdown",
   "metadata": {},
   "source": [
    "### 4. Encontrar los índices que no son ceros del arreglo  [1,2,4,2,4,0,1,0,0,0,12,4,5,6,7,0]."
   ]
  },
  {
   "cell_type": "code",
   "execution_count": 7,
   "metadata": {},
   "outputs": [
    {
     "data": {
      "text/plain": [
       "(array([ 0,  1,  2,  3,  4,  6, 10, 11, 12, 13, 14], dtype=int64),)"
      ]
     },
     "execution_count": 7,
     "metadata": {},
     "output_type": "execute_result"
    }
   ],
   "source": [
    "arr = np.array([1, 2, 4, 2, 4, 0, 1, 0, 0, 0, 12, 4, 5, 6, 7, 0])\n",
    "arr.nonzero()"
   ]
  },
  {
   "cell_type": "markdown",
   "metadata": {},
   "source": [
    "### 5. Crear una matriz identidad de 6x6."
   ]
  },
  {
   "cell_type": "code",
   "execution_count": 8,
   "metadata": {},
   "outputs": [
    {
     "data": {
      "text/plain": [
       "array([[1, 0, 0, 0, 0, 0],\n",
       "       [0, 1, 0, 0, 0, 0],\n",
       "       [0, 0, 1, 0, 0, 0],\n",
       "       [0, 0, 0, 1, 0, 0],\n",
       "       [0, 0, 0, 0, 1, 0],\n",
       "       [0, 0, 0, 0, 0, 1]])"
      ]
     },
     "execution_count": 8,
     "metadata": {},
     "output_type": "execute_result"
    }
   ],
   "source": [
    "np.eye(6, dtype='int')"
   ]
  },
  {
   "cell_type": "markdown",
   "metadata": {},
   "source": [
    "### 6. Encontrar los índices de los valores mínimos y máximos de la matriz creada en el ejercicio 3."
   ]
  },
  {
   "cell_type": "code",
   "execution_count": 106,
   "metadata": {},
   "outputs": [
    {
     "name": "stdout",
     "output_type": "stream",
     "text": [
      "Min values indexes: (0, 0)\n",
      "Max values indexes: (2, 2)\n"
     ]
    }
   ],
   "source": [
    "print('Min values indexes:', *zip(*np.where(matrix_3x3 == matrix_3x3.min())))\n",
    "print('Max values indexes:', *zip(*np.where(matrix_3x3 == matrix_3x3.max())))"
   ]
  },
  {
   "cell_type": "markdown",
   "metadata": {},
   "source": [
    "### 7. Crear una matriz de 10x10 con 1 en los bordes y 0 en el interior (con rangos de índices)."
   ]
  },
  {
   "cell_type": "code",
   "execution_count": 9,
   "metadata": {},
   "outputs": [
    {
     "data": {
      "text/plain": [
       "array([[1, 1, 1, 1, 1, 1, 1, 1, 1, 1],\n",
       "       [1, 0, 0, 0, 0, 0, 0, 0, 0, 1],\n",
       "       [1, 0, 0, 0, 0, 0, 0, 0, 0, 1],\n",
       "       [1, 0, 0, 0, 0, 0, 0, 0, 0, 1],\n",
       "       [1, 0, 0, 0, 0, 0, 0, 0, 0, 1],\n",
       "       [1, 0, 0, 0, 0, 0, 0, 0, 0, 1],\n",
       "       [1, 0, 0, 0, 0, 0, 0, 0, 0, 1],\n",
       "       [1, 0, 0, 0, 0, 0, 0, 0, 0, 1],\n",
       "       [1, 0, 0, 0, 0, 0, 0, 0, 0, 1],\n",
       "       [1, 1, 1, 1, 1, 1, 1, 1, 1, 1]])"
      ]
     },
     "execution_count": 9,
     "metadata": {},
     "output_type": "execute_result"
    }
   ],
   "source": [
    "size, border_size = 10, 1\n",
    "matrix_10x10 = np.ones((size, size), dtype='int')\n",
    "matrix_10x10[border_size:size - border_size, border_size:size - border_size] = 0\n",
    "matrix_10x10"
   ]
  },
  {
   "cell_type": "markdown",
   "metadata": {},
   "source": [
    "### 8. Crear una matriz de 5x5 con valores en los renglones que vayan de 0 a 4."
   ]
  },
  {
   "cell_type": "code",
   "execution_count": 16,
   "metadata": {},
   "outputs": [
    {
     "data": {
      "text/plain": [
       "array([[0, 1, 2, 3, 4],\n",
       "       [0, 1, 2, 3, 4],\n",
       "       [0, 1, 2, 3, 4],\n",
       "       [0, 1, 2, 3, 4],\n",
       "       [0, 1, 2, 3, 4]])"
      ]
     },
     "execution_count": 16,
     "metadata": {},
     "output_type": "execute_result"
    }
   ],
   "source": [
    "times = 5\n",
    "np.vstack([list(range(times)) for i in range(times)])"
   ]
  },
  {
   "cell_type": "markdown",
   "metadata": {},
   "source": [
    "### 9. Crear dos arreglos al azar A y B, verificar si son iguales."
   ]
  },
  {
   "cell_type": "code",
   "execution_count": 45,
   "metadata": {},
   "outputs": [
    {
     "name": "stdout",
     "output_type": "stream",
     "text": [
      "\n",
      "[[0 0]\n",
      " [1 0]\n",
      " [0 0]]\n",
      "\n",
      "[[2 4]\n",
      " [4 3]\n",
      " [2 2]]\n",
      "\n",
      "Equals: False\n",
      "\n"
     ]
    }
   ],
   "source": [
    "rand_min, rand_max = 0, 5\n",
    "shape = 3, 2\n",
    "arr_rand1 = np.random.randint(rand_min, rand_max, shape)\n",
    "arr_rand2 = np.random.randint(rand_min, rand_max, shape)\n",
    "print(f\"\"\"\n",
    "{arr_rand1}\n",
    "\n",
    "{arr_rand2}\n",
    "\n",
    "Equals: {np.array_equal(arr_rand1, arr_rand2)}\n",
    "\"\"\")\n"
   ]
  },
  {
   "cell_type": "markdown",
   "metadata": {},
   "source": [
    "### 10.Crear una matriz de 20x20 de valores aleatorios entre 1 y 100, luego indicar su media, su mediana, su moda y el desvío estándar. Los valores que den como resultado flotantes deben tener como máximo 2 decimales."
   ]
  },
  {
   "cell_type": "code",
   "execution_count": 123,
   "metadata": {},
   "outputs": [
    {
     "name": "stdout",
     "output_type": "stream",
     "text": [
      "[[ 38   4  78  69  24  95  45  10  90  44  46  47  63  23  87  95  15  90\n",
      "   98  89]\n",
      " [ 77  15  80  31  37  57  35  85  14  29  52  27  78  68  37  91  18  75\n",
      "   35   6]\n",
      " [ 36  53  39  39   8  86  45  48  34  68  58   8  73  44 100  63  71  23\n",
      "   75  13]\n",
      " [ 24  55  45  59  83  49  41  62  81  64  22  63  19  48  70  79  64  43\n",
      "   38  39]\n",
      " [  9  55  23  58   8  42  15  70  70  54  11  83  67  75  23  14   8  46\n",
      "   15  55]\n",
      " [ 98  31   2  56   2  16  87  27   9  42  98  90  31  67  78   7  38  28\n",
      "   37  56]\n",
      " [ 89  26  60   8   6  41  17  95  27  76  33  11  97   5  12  30  75  29\n",
      "   68  51]\n",
      " [ 48  66  37  37  20  80  19   5  73  24   6  33  10  94  90  33  18  61\n",
      "   38  48]\n",
      " [ 12  29   8  88  21   2  82   5  80  21  83   5  22  81  18  27  44  38\n",
      "   92   3]\n",
      " [  4  53  53  85  43  58 100  83 100  23  21  51  91  56  64  49  82  56\n",
      "   25  33]\n",
      " [ 21   1  59   1   3  95  66  42  20  41  20  34  85  60  85  69  50  71\n",
      "   43  91]\n",
      " [ 94  72  51  83  12  82  71  27  62  36  78  11  34  22  21  10  35  91\n",
      "   67  30]\n",
      " [ 15  96  64  95  52  97  31 100  76  50  76  42  47  34  95  52  74  95\n",
      "   95  79]\n",
      " [ 24  95  88  34  88  18  61  99  75  22  58  23   1  85  15  73  84  89\n",
      "   23   9]\n",
      " [ 99  99  34  25  93  59  61  28  45  54   9  71  77  77   3  50  20   3\n",
      "   68  20]\n",
      " [ 39  85  59   8  53  20   1  24  56  77  79  38  75 100  42  95  88  86\n",
      "   59  22]\n",
      " [  1   1  80  98 100   2  55  61  95  49  37  74  48  99  66   2  66  15\n",
      "   60   6]\n",
      " [ 52  16  43  58  34  97  35  25   6  57  55  17  64  21  26  44  67  52\n",
      "   36  56]\n",
      " [  8  72  15  99  70  45  93  28  24  98  35   3  21  73  62  62  24  59\n",
      "    1   7]\n",
      " [ 87   3  80  32  39  76  34  92  19  34  44  55  68  42  82  66  64  77\n",
      "   19  31]]\n",
      "\n",
      "Mean: 49.28\n",
      "Median: 48.00\n",
      "Mode: 95\n",
      "Standard deviation: 29.19\n",
      "\n"
     ]
    }
   ],
   "source": [
    "rand_min, rand_max = 1, 101\n",
    "shape = 20, 20\n",
    "matrix_20x20 = np.random.randint(rand_min, rand_max, shape)\n",
    "print(\n",
    "f\"\"\"{matrix_20x20}\n",
    "\n",
    "Mean: {np.mean(matrix_20x20):.2f}\n",
    "Median: {np.median(matrix_20x20):.2f}\n",
    "Mode: {stats.mode(matrix_20x20, axis=None)[0][0]}\n",
    "Standard deviation: {np.std(matrix_20x20):.2f}\n",
    "\"\"\"\n",
    ")"
   ]
  },
  {
   "cell_type": "markdown",
   "metadata": {},
   "source": [
    "### 11.Crear dos arreglos de 4 elementos enteros y hacer las siguientes operaciones: sumarlos, restarle el segundo al primero, multiplicarlos, dividir el primero por el segundo. Hacerlo utilizando métodos."
   ]
  },
  {
   "cell_type": "code",
   "execution_count": 12,
   "metadata": {},
   "outputs": [
    {
     "name": "stdout",
     "output_type": "stream",
     "text": [
      "\n",
      "Sum: [ 6  8 10 12]\n",
      "Diff: [-4 -4 -4 -4]\n",
      "Mult: [ 5 12 21 32]\n",
      "Div: [0.2        0.33333333 0.42857143 0.5       ]\n",
      "\n"
     ]
    }
   ],
   "source": [
    "arr1 = np.array([1, 2, 3, 4]) \n",
    "arr2 = np.array([5, 6, 7, 8])\n",
    "print(f\"\"\"\n",
    "Sum: {np.add(arr1, arr2)}\n",
    "Diff: {np.subtract(arr1, arr2)}\n",
    "Mult: {np.multiply(arr1, arr2)}\n",
    "Div: {np.divide(arr1, arr2)}\n",
    "\"\"\")\n"
   ]
  },
  {
   "cell_type": "markdown",
   "metadata": {},
   "source": [
    "### 12.Crear una matriz de 4x4 de valores aleatorios entre 1 y 10, y luego agregarle una fila de 0s al final."
   ]
  },
  {
   "cell_type": "code",
   "execution_count": 13,
   "metadata": {},
   "outputs": [
    {
     "data": {
      "text/plain": [
       "array([[ 3,  7,  6,  9],\n",
       "       [ 3,  2,  6,  2],\n",
       "       [ 9, 10,  3,  5],\n",
       "       [ 7,  1, 10,  8],\n",
       "       [ 0,  0,  0,  0]])"
      ]
     },
     "execution_count": 13,
     "metadata": {},
     "output_type": "execute_result"
    }
   ],
   "source": [
    "rand_min, rand_max = 1, 11\n",
    "shape = 4, 4\n",
    "matrix_4x4 = np.random.randint(rand_min, rand_max, shape)\n",
    "\n",
    "np.append(matrix_4x4, [np.zeros(shape[0], dtype='int')], axis=0)"
   ]
  },
  {
   "cell_type": "markdown",
   "metadata": {},
   "source": [
    "### 13.Crear dos arreglos de 6 elementos de valores aleatorios entre 0 y 1 y luego realizar las operaciones lógicas and y or con los métodos de NumPy."
   ]
  },
  {
   "cell_type": "code",
   "execution_count": 129,
   "metadata": {},
   "outputs": [
    {
     "name": "stdout",
     "output_type": "stream",
     "text": [
      "\n",
      "a. [0 1 1 1 0 1]\n",
      "\n",
      "b. [0 0 1 0 0 1]\n",
      "\n",
      "AND: [False False  True False False  True]\n",
      "\n",
      "OR: [False  True  True  True False  True]\n",
      "\n"
     ]
    }
   ],
   "source": [
    "rand_min, rand_max = 0, 2\n",
    "qty = 6\n",
    "arr1 = np.random.randint(rand_min, rand_max, qty)\n",
    "arr2 = np.random.randint(rand_min, rand_max, qty)\n",
    "\n",
    "print(\n",
    "f\"\"\"\n",
    "a. {arr1}\n",
    "\n",
    "b. {arr2}\n",
    "\n",
    "AND: {np.logical_and(arr1, arr2)}\n",
    "\n",
    "OR: {np.logical_or(arr1 ,arr2)}\n",
    "\"\"\")"
   ]
  },
  {
   "cell_type": "markdown",
   "metadata": {},
   "source": [
    "### 14.Crear un arreglo de 4 elementos de entre 0 y 10, informar la cantidad de elementos que tiene y también cuántos bytes ocupa el arreglo."
   ]
  },
  {
   "cell_type": "code",
   "execution_count": 130,
   "metadata": {},
   "outputs": [
    {
     "name": "stdout",
     "output_type": "stream",
     "text": [
      "[3 2 1 3]\n",
      "Elements: 4, Total bytes: 16\n"
     ]
    }
   ],
   "source": [
    "rand_min, rand_max = 0 , 11\n",
    "size = 4\n",
    "arr = np.random.randint(rand_min, rand_max, size)\n",
    "print(arr)\n",
    "print(f'Elements: {arr.size}, Total bytes: {arr.itemsize * arr.size}')"
   ]
  },
  {
   "cell_type": "markdown",
   "metadata": {},
   "source": [
    "### 15.Crear una matriz que contenga información en distintos formatos, imprimir la info de cada formato a través del atributo."
   ]
  },
  {
   "cell_type": "code",
   "execution_count": 128,
   "metadata": {},
   "outputs": [
    {
     "name": "stdout",
     "output_type": "stream",
     "text": [
      "Name: <U10\n",
      "Age: int32\n",
      "Income: float64\n"
     ]
    }
   ],
   "source": [
    "data = np.rec.array([('Jose', 32, 4321.2), ('Laura', 54, 5644.2), ('Juana', 31, 3453)], \n",
    "                    dtype=[('name', 'U10'), ('age', 'i'), ('income', 'f8')])\n",
    "\n",
    "print(f\"\"\"Name: {data.name.dtype}\n",
    "Age: {data.age.dtype}\n",
    "Income: {data.income.dtype}\"\"\")"
   ]
  }
 ],
 "metadata": {
  "kernelspec": {
   "display_name": "Python 3",
   "language": "python",
   "name": "python3"
  },
  "language_info": {
   "codemirror_mode": {
    "name": "ipython",
    "version": 3
   },
   "file_extension": ".py",
   "mimetype": "text/x-python",
   "name": "python",
   "nbconvert_exporter": "python",
   "pygments_lexer": "ipython3",
   "version": "3.8.3"
  }
 },
 "nbformat": 4,
 "nbformat_minor": 4
}
